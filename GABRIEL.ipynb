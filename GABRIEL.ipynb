{
 "cells": [
  {
   "cell_type": "code",
   "execution_count": 18,
   "id": "fcd257ba-edd7-466d-aefc-481486d73ed1",
   "metadata": {},
   "outputs": [
    {
     "name": "stdout",
     "output_type": "stream",
     "text": [
      "What people say, what people do, and what they say they do are entirely different things.  - Margaret Mead\n",
      "Rather than waste time and energy worrying, use that time and energy to constructively deal with whatever is causing the worry. - Celestine Chua\n",
      "There is a wisdom of the head, and there is a wisdom of the heart. - Charles Dickens\n",
      "If you're walking down the right path and you're willing to keep walking, eventually you'll make progress. - Barack Obama\n",
      "We are all in the gutter, but some of us are looking at the stars.  - Oscar Wilde\n",
      "Winners don't Quit. That's why they Win. - Unknown\n",
      "Nothing endures but change. - Heraclitus\n",
      "Anger exceeding limits causes fear and excessive kindness eliminates respect. - Euripides\n",
      "Only I can change my life. No one can do it for me. - Carol Burnett\n",
      "You may be disappointed if you fail, but you are doomed if you don't try. - Beverly Sills\n",
      "Show up even when you don't want to show up. - Steve Harvey\n",
      "Happiness must be grown in one's own garden. - Mary Engelbreit\n",
      "The two most powerful warriors are patience and time. - Leo Tolstoy\n",
      "Others have seen what is and asked why. I have seen what could be and asked why not - Pablo Picasso\n",
      "Age is a very high price to pay for maturity. - William James\n",
      "You're only given a little spark of madness. You mustn't lose it. - Robin Williams\n",
      "The worst part of success is trying to find someone who is happy for you. - Bette Midler\n",
      "Sorrow is how we learn to love. - Rita Mae Brown\n",
      "There are no differences but differences of degree between different degrees of difference and no difference. - William James\n",
      "There is only one way to happiness and that is to cease worrying about things which are beyond the power or our will. - Epictetus\n",
      "If you try, you might get exactly what you want. If you don't, you don't. - Unknown\n",
      "Don't explain your philosophy. Embody it. - Epictetus\n",
      "Most people achieved their greatest success one step beyond what looked like their greatest failure. - Brian Tracy\n",
      "A mistake is only an error, it becomes a mistake when you fail to correct it. - John Lennon\n",
      "The hardest arithmetic to master is that which enables us to count our blessings. - Eric Hoffer\n",
      "He who violates another's honor loses his own. - Publilius Syrus\n",
      "Talk sense to a fool and he calls you foolish. - Euripides\n",
      "Throughout this life, you can never be certain of living long enough to take another breath. - Zen Proverb\n",
      "Human behavior flows from three main sources: desire, emotion, and knowledge. - Plato\n",
      "It matters not what someone is born, but what they grow to be. - Albus Dumbledore\n",
      "While we may not be able to control all that happens to us, we can control what happens inside us. - Benjamin Franklin\n",
      "The man who moved the mountain was the one who began carrying away the smallest stones. - Zen Proverb\n",
      "Many have died; you also will die. The drum of death is being beaten. The world has fallen in love with a dream. Only sayings of the wise will remain. - Kabir\n",
      "Talk does not cook rice. - Chinese Proverb\n",
      "Just because something isn't a lie does not mean that it isn't deceptive. - Criss Jami\n",
      "The tragedy of life doesn't lie in not reaching your goal. The tragedy lies in having no goals to reach. - Benjamin Mays\n",
      "The secret of life isn't what happens to you, but what you do with what happens to you. - Norman Vincent Peale\n",
      "Mind is the creator of everything. You should therefore guide it to create only good. - Paramahansa Yogananda\n",
      "Deliberately seek the company of people who influence you to think and act on building the life you desire. - Napoleon Hill\n",
      "Learn to use your emotions to think, not think with your emotions. - Robert Kiyosaki\n",
      "We may not be able to stop evil in the world, but how we treat one another is entirely up to us. - Barack Obama\n",
      "Success is going from failure to failure without losing your enthusiasm - Winston Churchill\n",
      "We suffer more often in imagination than in reality. - Seneca\n",
      "Work as though you would live forever, and live as though you would die today. Go another mile. - Og Mandino\n",
      "However difficult life may seem, there is always something you can do and succeed at. - Stephen Hawking\n",
      "Time is a game played beautifully by children. - Heraclitus\n",
      "Life must be rich and full of loving-it's no good otherwise, no good at all, for anyone.   - Jack Kerouac\n",
      "Peace is not absence of conflict, it is the ability to handle conflict by peaceful means. - Ronald Reagan\n",
      "It is not how much we have, but how much we enjoy, that makes happiness. - Charles Spurgeon\n"
     ]
    }
   ],
   "source": [
    "class QuoteElement():\n",
    "\n",
    "    def __init__(self, quote, author):\n",
    "        self.quote = quote \n",
    "        self.author = author\n",
    "\n",
    "    def __str__(self):\n",
    "        return self.quote + ' - ' + self.author\n",
    "\n",
    "\n",
    "import requests\n",
    "requisicaoRaw = requests.get(\"https://zenquotes.io/api/quotes\")\n",
    "requisicao = requisicaoRaw.json()\n",
    "\n",
    "quotes = []\n",
    "\n",
    "for i in range(0,49):\n",
    "    quotes.append(QuoteElement(requisicao[i]['q'], requisicao[i]['a']))\n",
    "\n",
    "for quote in quotes:\n",
    "    print(quote)\n",
    "#quoteOne = QuoteElement(requisicao[0]['q'], requisicao[0]['a'])\n",
    "\n",
    "\n",
    "#print(quoteOne)\n"
   ]
  },
  {
   "cell_type": "code",
   "execution_count": null,
   "id": "e379691b-dc3e-4fde-8e2e-c40ed7fc5db5",
   "metadata": {},
   "outputs": [],
   "source": []
  },
  {
   "cell_type": "code",
   "execution_count": null,
   "id": "1c080092-486d-4ed7-954c-2c5383552bbf",
   "metadata": {},
   "outputs": [],
   "source": []
  },
  {
   "cell_type": "code",
   "execution_count": null,
   "id": "06da9b40-8deb-440d-8e5c-3f971c4510c9",
   "metadata": {},
   "outputs": [],
   "source": []
  },
  {
   "cell_type": "code",
   "execution_count": null,
   "id": "6b64b961-077d-4b68-9300-666216bbc6ad",
   "metadata": {},
   "outputs": [],
   "source": []
  },
  {
   "cell_type": "code",
   "execution_count": null,
   "id": "14ee7290-a368-4fe6-a5ab-fb843eee1366",
   "metadata": {},
   "outputs": [],
   "source": []
  },
  {
   "cell_type": "code",
   "execution_count": null,
   "id": "9a52da99-dea9-4596-b5fe-585c9e4d5185",
   "metadata": {},
   "outputs": [],
   "source": [
    "\n"
   ]
  },
  {
   "cell_type": "code",
   "execution_count": null,
   "id": "ce614071-9b7e-4d21-8932-b240cf6c2587",
   "metadata": {},
   "outputs": [],
   "source": [
    "\n",
    "\n",
    "\n",
    "\n",
    "\n",
    "\n"
   ]
  }
 ],
 "metadata": {
  "kernelspec": {
   "display_name": "Python 3 (ipykernel)",
   "language": "python",
   "name": "python3"
  },
  "language_info": {
   "codemirror_mode": {
    "name": "ipython",
    "version": 3
   },
   "file_extension": ".py",
   "mimetype": "text/x-python",
   "name": "python",
   "nbconvert_exporter": "python",
   "pygments_lexer": "ipython3",
   "version": "3.11.7"
  }
 },
 "nbformat": 4,
 "nbformat_minor": 5
}
